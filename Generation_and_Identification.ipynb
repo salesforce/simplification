{
 "cells": [
  {
   "attachments": {},
   "cell_type": "markdown",
   "metadata": {},
   "source": [
    "# 1. Generate Simplifications"
   ]
  },
  {
   "cell_type": "code",
   "execution_count": 1,
   "metadata": {},
   "outputs": [],
   "source": [
    "from transformers import AutoTokenizer, AutoModelForSeq2SeqLM\n",
    "\n",
    "tokenizer = AutoTokenizer.from_pretrained(\"Salesforce/bart-large-swipe-clean\")\n",
    "model = AutoModelForSeq2SeqLM.from_pretrained(\"Salesforce/bart-large-swipe-clean\")"
   ]
  },
  {
   "cell_type": "code",
   "execution_count": 8,
   "metadata": {},
   "outputs": [
    {
     "name": "stdout",
     "output_type": "stream",
     "text": [
      "Econometrics is a branch of economics that uses statistical methods. It uses empirical analysis of economic data to find economic relationships. It is based on the concurrent development of theory and observation. Jan Tinbergen is the one of the two founding fathers of the field. The other, Ragnar Frisch, also created the term in the sense used today.\n"
     ]
    }
   ],
   "source": [
    "# Let's simplify this with the model\n",
    "input_doc = \"Econometrics is an application of statistical methods to economic data in order to give empirical content to economic relationships. More precisely, it is the quantitative analysis of actual economic phenomena based on the concurrent development of theory and observation, related by appropriate methods of inference. An introductory economics textbook describes econometrics as allowing economists to sift through mountains of data to extract simple relationships. Jan Tinbergen is one of the two founding fathers of econometrics. The other, Ragnar Frisch, also coined the term in the sense in which it is used today. A basic tool for econometrics is the multiple linear regression model. Econometric theory uses statistical theory and mathematical statistics to evaluate and develop econometric methods.[10] Econometricians try to find estimators that have desirable statistical properties including unbiasedness, efficiency, and consistency. Applied econometrics uses theoretical econometrics and real-world data for assessing economic theories, developing econometric models, analysing economic history, and forecasting.\"\n",
    "input_ids = tokenizer(input_doc, return_tensors=\"pt\").input_ids\n",
    "\n",
    "output = model.generate(input_ids, max_length=200, temperature=1.5, num_beams=5, num_return_sequences=1, do_sample=True)\n",
    "output_doc = tokenizer.decode(output[0], skip_special_tokens=True)\n",
    "print(output_doc)\n",
    "\n",
    "# Output: Econometrics is a branch of economics. It is based on the application of statistical methods to economic data in order to give empirical content to the relationships between economic relationships. It is a quantitative analysis of actual economic phenomena based on analysis of theory and observation. Jan Tinbergen was one of the first people to talk about it. The other person was Ragnar Frisch. He invented the term in the sense that it is used today."
   ]
  },
  {
   "attachments": {},
   "cell_type": "markdown",
   "metadata": {},
   "source": [
    "# 2. Print the explicit edit sequence"
   ]
  },
  {
   "cell_type": "code",
   "execution_count": 9,
   "metadata": {},
   "outputs": [
    {
     "name": "stdout",
     "output_type": "stream",
     "text": [
      "Econometrics is\u001b[1;31man application\u001b[0m\u001b[1;32ma branch\u001b[0m of\u001b[1;32meconomics that uses\u001b[0m statistical methods\u001b[1;31mto\u001b[0m\u001b[1;32m. It uses empirical analysis of\u001b[0m economic data\u001b[1;31min order\u001b[0m to\u001b[1;31mgive empirical content to\u001b[0m\u001b[1;32mfind\u001b[0m economic relationships.\u001b[1;31mMore precisely, it\u001b[0m\u001b[1;32mIt\u001b[0m is\u001b[1;31mthe quantitative analysis of actual economic phenomena\u001b[0m based on the concurrent development of theory and observation\u001b[1;31m, related by appropriate methods of inference. An introductory economics textbook describes econometrics as allowing economists to sift through mountains of data to extract simple relationships\u001b[0m. Jan Tinbergen is\u001b[1;32mthe\u001b[0m one of the two founding fathers of\u001b[1;31meconometrics\u001b[0m\u001b[1;32mthe field\u001b[0m. The other, Ragnar Frisch, also\u001b[1;31mcoined\u001b[0m\u001b[1;32mcreated\u001b[0m the term in the sense\u001b[1;31min which it is\u001b[0m used today.\u001b[1;31mA basic tool for econometrics is the multiple linear regression model. Econometric theory uses statistical theory and mathematical statistics to evaluate and develop econometric methods.[10] Econometricians try to find estimators that have desirable statistical properties including unbiasedness, efficiency, and consistency. Applied econometrics uses theoretical econometrics and real-world data for assessing economic theories, developing econometric models, analysing economic history, and forecasting.\u001b[0m\n"
     ]
    }
   ],
   "source": [
    "import utils_diff\n",
    "\n",
    "print(utils_diff.make_colored_text(input_doc, output_doc))"
   ]
  },
  {
   "attachments": {},
   "cell_type": "markdown",
   "metadata": {},
   "source": [
    "# 3. Identify Edit Groups and Categories with BIC"
   ]
  },
  {
   "cell_type": "code",
   "execution_count": 10,
   "metadata": {},
   "outputs": [],
   "source": [
    "from model_bic import BIC\n",
    "\n",
    "bic = BIC(\"Salesforce/bic_simple_edit_id\")"
   ]
  },
  {
   "cell_type": "code",
   "execution_count": 11,
   "metadata": {},
   "outputs": [
    {
     "name": "stdout",
     "output_type": "stream",
     "text": [
      "BIC Identified 15 edit groups\n",
      "[lexical_generic               ] Econometrics is\u001b[1;32ma branch\u001b[0m\u001b[1;31man application\u001b[0m of [...]\n",
      "[semantic_elaboration_example  ] [...] of\u001b[1;32meconomics that uses\u001b[0m statistical methods [...]\n",
      "[syntactic_sentence_splitting  ] [...] statistical methods\u001b[1;32m.\u001b[0m\u001b[1;32m It uses empirical analysis of\u001b[0m\u001b[1;31mto\u001b[0m economic data [...]\n",
      "[semantic_elaboration_example  ] [...] \u001b[1;32m It uses empirical analysis of\u001b[0m [...]\n",
      "[syntactic_deletion            ] [...] economic data\u001b[1;31min order\u001b[0m to [...]\n",
      "[lexical_generic               ] [...] to\u001b[1;32mfind\u001b[0m\u001b[1;31mgive empirical content to\u001b[0m economic relationships. [...]\n",
      "[lexical_generic               ] [...] economic relationships.\u001b[1;32mIt\u001b[0m\u001b[1;31mMore precisely, it\u001b[0m is [...]\n",
      "[semantic_deletion             ] [...] is\u001b[1;31mthe quantitative analysis of actual economic phenomena\u001b[0m based on the concurrent development of theory and observation [...]\n",
      "[semantic_deletion             ] [...] based on the concurrent development of theory and observation\u001b[1;31m, related by appropriate methods of inference.\u001b[0m\u001b[1;31m An introductory economics textbook describes econometrics as allowing economists to sift through mountains of data to extract simple relationships\u001b[0m. Jan Tinbergen is [...]\n",
      "[syntactic_generic             ] [...] . Jan Tinbergen is\u001b[1;32mthe\u001b[0m one of the two founding fathers of [...]\n",
      "[lexical_generic               ] [...] one of the two founding fathers of\u001b[1;32mthe field\u001b[0m\u001b[1;31meconometrics\u001b[0m. The other, Ragnar Frisch, also [...]\n",
      "[semantic_elaboration_example  ] [...] one of the two founding fathers of\u001b[1;32mthe field\u001b[0m [...]\n",
      "[lexical_generic               ] [...] . The other, Ragnar Frisch, also\u001b[1;32mcreated\u001b[0m\u001b[1;31mcoined\u001b[0m the term in the sense [...]\n",
      "[syntactic_deletion            ] [...] the term in the sense\u001b[1;31min which it is\u001b[0m used today. [...]\n",
      "[semantic_deletion             ] [...] used today.\u001b[1;31mA basic tool for econometrics is the multiple linear regression model.\u001b[0m\u001b[1;31m Econometric theory uses statistical theory and mathematical statistics to evaluate and develop econometric methods.\u001b[0m\u001b[1;31m[10] Econometricians try to find estimators that have desirable statistical properties including unbiasedness, efficiency, and consistency.\u001b[0m\u001b[1;31m Applied econometrics uses theoretical econometrics and real-world data for assessing economic theories, developing econometric models, analysing economic history, and forecasting.\u001b[0m\n"
     ]
    }
   ],
   "source": [
    "from utils_vis import visualize_edit_groups\n",
    "\n",
    "edit_groups = bic.predict_from_text_pair(input_doc, output_doc)\n",
    "visualize_edit_groups(input_doc, output_doc, edit_groups)"
   ]
  }
 ],
 "metadata": {
  "kernelspec": {
   "display_name": "base",
   "language": "python",
   "name": "python3"
  },
  "language_info": {
   "codemirror_mode": {
    "name": "ipython",
    "version": 3
   },
   "file_extension": ".py",
   "mimetype": "text/x-python",
   "name": "python",
   "nbconvert_exporter": "python",
   "pygments_lexer": "ipython3",
   "version": "3.9.7"
  },
  "orig_nbformat": 4
 },
 "nbformat": 4,
 "nbformat_minor": 2
}
