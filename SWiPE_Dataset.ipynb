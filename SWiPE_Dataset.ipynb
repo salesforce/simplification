{
 "cells": [
  {
   "attachments": {},
   "cell_type": "markdown",
   "metadata": {},
   "source": [
    " # Human-annotated portion of dataset (~5k samples)"
   ]
  },
  {
   "cell_type": "code",
   "execution_count": 92,
   "metadata": {},
   "outputs": [],
   "source": [
    "import json, random\n",
    "import utils_diff\n",
    "\n",
    "with open(\"data/swipe_train.json\", \"r\") as f: # See: data/swipe_val.json, data/swipe_test_id.json, data/swipe_test_ood.json for the validation, in-domain test, and out-of-domain test sets\n",
    "    swipe_train = json.load(f)\n",
    "\n",
    "sample = random.choice(swipe_train)"
   ]
  },
  {
   "cell_type": "code",
   "execution_count": 93,
   "metadata": {},
   "outputs": [
    {
     "name": "stdout",
     "output_type": "stream",
     "text": [
      "Page Pairing: [En Wiki: Ben Nsibandze; Revision ID: 1003827254] [Simple Wiki: Ben Nsibandze; Revision ID: 7351885]\n",
      "---- Here is the edit sequence to go from the original page to the simplified page ----\n",
      "Legend: Green text is added in the simple page, red text is deleted from the original page\n",
      "---\n",
      "Benjamin Mshamndane Nsibandze\u001b[1;31m(June 17,\u001b[0m\u001b[1;32m(17 June\u001b[0m 1931 -\u001b[1;32m13\u001b[0m January\u001b[1;31m13,\u001b[0m 2021) was a Swazi\u001b[1;31mregional adminstrator and deputy prime minister\u001b[0m\u001b[1;32mpolitician\u001b[0m. He\u001b[1;31mserved as\u001b[0m\u001b[1;32mwas Deputy Prime Minister. He was\u001b[0m acting Prime Minister of Swaziland from 25 October 1979 to 23 November 1979.\u001b[1;31mHe\u001b[0m\u001b[1;32mNsibandze\u001b[0m died\u001b[1;31min\u001b[0m\u001b[1;32mon 13\u001b[0m January 2021\u001b[1;31m, aged\u001b[0m\u001b[1;32mat the age of\u001b[0m 89.\n"
     ]
    }
   ],
   "source": [
    "print(\"Page Pairing: [En Wiki: %s; Revision ID: %s] [Simple Wiki: %s; Revision ID: %s]\" % (sample[\"r_page\"], sample[\"r_revid\"], sample[\"s_page\"], sample[\"s_revid\"]))\n",
    "\n",
    "# Raw text of En page: sample[\"r_content\"]\n",
    "# Raw text of Simple page: sample[\"s_content\"]\n",
    "\n",
    "edits = sample[\"edits\"] # Can be recreated through: `utils_diff.get_edit_operations(sample[\"r_content\"], sample[\"s_content\"], split_replace=True, split_sentences=True)`\n",
    "\n",
    "print(\"---- Here is the edit sequence to go from the original page to the simplified page ----\")\n",
    "print(\"Legend: Green text is added in the simple page, red text is deleted from the original page\")\n",
    "print(\"---\")\n",
    "print(utils_diff.make_colored_text(sample[\"r_content\"], sample[\"s_content\"]))"
   ]
  },
  {
   "cell_type": "code",
   "execution_count": 94,
   "metadata": {},
   "outputs": [
    {
     "data": {
      "text/plain": [
       "[{'gi': 0, 'opis': [1, 2], 'category': 'nonsim_format'},\n",
       " {'gi': 1, 'opis': [4, 6], 'category': 'nonsim_format'},\n",
       " {'gi': 2, 'opis': [8, 9], 'category': 'lexical_generic'},\n",
       " {'gi': 3, 'opis': [11, 9], 'category': 'discourse_reordering'},\n",
       " {'gi': 4, 'opis': [12, 13], 'category': 'discourse_reordering'},\n",
       " {'gi': 5, 'opis': [12], 'category': 'syntactic_sentence_splitting'},\n",
       " {'gi': 6, 'opis': [15, 16], 'category': 'discourse_anaphora_resolution'},\n",
       " {'gi': 7, 'opis': [18, 19], 'category': 'nonsim_fact_correction'},\n",
       " {'opis': [21, 22], 'category': 'lexical_generic'}]"
      ]
     },
     "execution_count": 94,
     "metadata": {},
     "output_type": "execute_result"
    }
   ],
   "source": [
    "# Annotation format specifies each edit group through the operation index (opi) of the category assigned to the group\n",
    "sample[\"annotations\"]"
   ]
  },
  {
   "cell_type": "code",
   "execution_count": 95,
   "metadata": {},
   "outputs": [
    {
     "name": "stdout",
     "output_type": "stream",
     "text": [
      "There are a total of 9 identified groups.\n",
      "[nonsim_format                 ] Benjamin Mshamndane Nsibandze\u001b[1;32m(17 June\u001b[0m\u001b[1;31m(June 17,\u001b[0m 1931 - [...]\n",
      "[nonsim_format                 ] [...] 1931 -\u001b[1;32m13\u001b[0m January\u001b[1;31m13,\u001b[0m 2021) was a Swazi [...]\n",
      "[lexical_generic               ] [...] 2021) was a Swazi\u001b[1;32mpolitician\u001b[0m\u001b[1;31mregional adminstrator and deputy prime minister\u001b[0m. He [...]\n",
      "[discourse_reordering          ] [...] \u001b[1;31mregional adminstrator and deputy prime minister\u001b[0m. He\u001b[1;32mwas Deputy Prime Minister.\u001b[0m [...]\n",
      "[discourse_reordering          ] [...] \u001b[1;32m He was\u001b[0m\u001b[1;31mserved as\u001b[0m acting Prime Minister of Swaziland from 25 October 1979 to 23 November 1979. [...]\n",
      "[syntactic_sentence_splitting  ] [...] \u001b[1;32m He was\u001b[0m [...]\n",
      "[discourse_anaphora_resolution ] [...] acting Prime Minister of Swaziland from 25 October 1979 to 23 November 1979.\u001b[1;32mNsibandze\u001b[0m\u001b[1;31mHe\u001b[0m died [...]\n",
      "[nonsim_fact_correction        ] [...] died\u001b[1;32mon 13\u001b[0m\u001b[1;31min\u001b[0m January 2021 [...]\n",
      "[lexical_generic               ] [...] January 2021\u001b[1;32mat the age of\u001b[0m\u001b[1;31m, aged\u001b[0m 89.\n"
     ]
    }
   ],
   "source": [
    "# To visualize what each group correspond to, use the utils_vis module\n",
    "from utils_vis import visualize_edit_groups\n",
    "\n",
    "visualize_edit_groups(sample[\"r_content\"], sample[\"s_content\"], sample[\"annotations\"])"
   ]
  },
  {
   "attachments": {},
   "cell_type": "markdown",
   "metadata": {},
   "source": [
    "# Entire dataset (~140k samples)"
   ]
  },
  {
   "cell_type": "code",
   "execution_count": 63,
   "metadata": {},
   "outputs": [
    {
     "name": "stdout",
     "output_type": "stream",
     "text": [
      "Size of dataset: 143359\n",
      "Example sample. Input (English Wikipedia) -> Output (Simple Wikipedia)\n",
      "{'input': \"Burnham-on-Sea is a seaside town in Somerset, England, at the mouth of the River Parrett, upon Bridgwater Bay. Burnham was a small fishing village until the late 18th century when it began to grow because of its popularity as a seaside resort.\\nBurnham-on-Sea forms part of the parish of Burnham-on-Sea and Highbridge and shares a town council with its neighbouring small market town of Highbridge. According to the 2011 census the population of the parish (including Highbridge) was 19,576, of which the most populous wards 'Burnham Central' and 'Burnham North'; totalled 13,601.\\nBurnham-on-Sea is most famous for its low lighthouse. The now-decommissioned lighthouse was built in 1832 and is a Grade-II listed building. The lighthouse is famous for its red and white striped facade.\\nThe position of the town on the edge of the Somerset Levels and moors where they meet the Bristol Channel, has resulted in a history dominated by land reclamation and sea defences since Roman times. Burnham was seriously affected by the Bristol Channel floods of 1607, with the present curved concrete wall being completed in 1988. There have been many shipwrecks on the Gore Sands, which lie just offshore and can be exposed at low tides. Lighthouses are hence prominent landmarks in the town, with the original lighthouse known as the Round Tower built to replace the light on the top of the 14th-century tower of St Andrews Church. The 110-foot (34-metre) pillar or High Lighthouse and the low wooden pile lighthouse or Lighthouse on legs on the beach were built to replace it. The town's first lifeboat was provided in 1836 by the Corporation of Bridgwater.\", 'output': 'Burnham-on-Sea is a small town in the county of Somerset in England on the mouth of the River Parrett at Bridgwater Bay. Burnham was a small fishing village until the late-18th century when it became popular as a seaside resort. This made the village grow larger into a town.'}\n"
     ]
    }
   ],
   "source": [
    "from collections import Counter\n",
    "import json, random\n",
    "\n",
    "with open(\"data/swipe_full.json\", \"r\") as f:\n",
    "    swipe_full = json.load(f)\n",
    "\n",
    "print(\"Size of dataset: %d\" % (len(swipe_full)))\n",
    "\n",
    "sample = random.choice(swipe_full)\n",
    "print(\"Example sample. Input (English Wikipedia) -> Output (Simple Wikipedia)\")\n",
    "print(sample)"
   ]
  },
  {
   "cell_type": "code",
   "execution_count": 64,
   "metadata": {},
   "outputs": [
    {
     "name": "stdout",
     "output_type": "stream",
     "text": [
      "Burnham-on-Sea is a\u001b[1;31mseaside\u001b[0m\u001b[1;32msmall\u001b[0m town in\u001b[1;32mthe county of\u001b[0m Somerset\u001b[1;31m,\u001b[0m\u001b[1;32min\u001b[0m England\u001b[1;31m, at\u001b[0m\u001b[1;32mon\u001b[0m the mouth of the River Parrett\u001b[1;31m, upon\u001b[0m\u001b[1;32mat\u001b[0m Bridgwater Bay. Burnham was a small fishing village until the\u001b[1;31mlate 18th\u001b[0m\u001b[1;32mlate-18th\u001b[0m century when it\u001b[1;31mbegan to grow because of its popularity\u001b[0m\u001b[1;32mbecame popular\u001b[0m as a seaside resort.\u001b[1;31mBurnham-on-Sea forms part of\u001b[0m\u001b[1;32mThis made\u001b[0m the\u001b[1;31mparish of Burnham-on-Sea and Highbridge and shares\u001b[0m\u001b[1;32mvillage grow larger into\u001b[0m a town\u001b[1;31mcouncil with its neighbouring small market town of Highbridge\u001b[0m.\u001b[1;31mAccording to the 2011 census the population of the parish(including Highbridge) was 19,576, of which the most populous wards'Burnham Central' and'Burnham North'; totalled 13,601. Burnham-on-Sea is most famous for its low lighthouse. The now-decommissioned lighthouse was built in 1832 and is a Grade-II listed building. The lighthouse is famous for its red and white striped facade. The position of the town on the edge of the Somerset Levels and moors where they meet the Bristol Channel, has resulted in a history dominated by land reclamation and sea defences since Roman times. Burnham was seriously affected by the Bristol Channel floods of 1607, with the present curved concrete wall being completed in 1988. There have been many shipwrecks on the Gore Sands, which lie just offshore and can be exposed at low tides. Lighthouses are hence prominent landmarks in the town, with the original lighthouse known as the Round Tower built to replace the light on the top of the 14th-century tower of St Andrews Church. The 110-foot(34-metre) pillar or High Lighthouse and the low wooden pile lighthouse or Lighthouse on legs on the beach were built to replace it. The town's first lifeboat was provided in 1836 by the Corporation of Bridgwater.\u001b[0m\n"
     ]
    }
   ],
   "source": [
    "import utils_diff\n",
    "\n",
    "# To make the edits between the input to the output\n",
    "print(utils_diff.make_colored_text(sample[\"input\"], sample[\"output\"]))"
   ]
  }
 ],
 "metadata": {
  "kernelspec": {
   "display_name": "base",
   "language": "python",
   "name": "python3"
  },
  "language_info": {
   "codemirror_mode": {
    "name": "ipython",
    "version": 3
   },
   "file_extension": ".py",
   "mimetype": "text/x-python",
   "name": "python",
   "nbconvert_exporter": "python",
   "pygments_lexer": "ipython3",
   "version": "3.9.7"
  },
  "orig_nbformat": 4
 },
 "nbformat": 4,
 "nbformat_minor": 2
}
