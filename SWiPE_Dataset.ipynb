{
 "cells": [
  {
   "cell_type": "code",
   "execution_count": 123,
   "metadata": {},
   "outputs": [],
   "source": [
    "import json, random\n",
    "import utils_diff\n",
    "\n",
    "with open(\"data/swipe_train.json\", \"r\") as f:\n",
    "    swipe_train = json.load(f)\n",
    "\n",
    "sample = random.choice(swipe_train)"
   ]
  },
  {
   "cell_type": "code",
   "execution_count": 124,
   "metadata": {},
   "outputs": [
    {
     "name": "stdout",
     "output_type": "stream",
     "text": [
      "Page Pairing: [En Wiki: Neues Museum; Revision ID: 1034209831] [Simple Wiki: Neues Museum; Revision ID: 8261093]\n",
      "---- Here is the edit sequence to go from the original page to the simplified page ----\n",
      "Legend: Green text is added in the simple page, red text is deleted from the original page\n",
      "---\n",
      "The Neues Museum(English: New Museum) is\u001b[1;31ma listed building\u001b[0m\u001b[1;32mone of the buildings\u001b[0m on the Museum Island in\u001b[1;31mthe historic centre of\u001b[0m Berlin\u001b[1;31mand\u001b[0m\u001b[1;32m. It is\u001b[0m part of\u001b[1;31mthe\u001b[0m\u001b[1;32man\u001b[0m UNESCO World Heritage\u001b[1;32mSite\u001b[0m.\u001b[1;31mBuilt from 1843 to 1855 by order of King Frederick William IV of Prussia in Neoclassical and Renaissance Revival styles, it is considered as the major work of Friedrich August Stüler. After suffering damage in World War II and decay in East Germany, it was restored from 1999 to 2009 by David Chipperfield. Currently, the Neues\u001b[0m\u001b[1;32mThe\u001b[0m Museum\u001b[1;31mis home to the Ägyptisches\u001b[0m\u001b[1;32mincludes an Egyptian\u001b[0m Museum,\u001b[1;31mthe Papyrussammlung\u001b[0m\u001b[1;32mPapyrus Collection\u001b[0m,\u001b[1;31mthe\u001b[0m Museum\u001b[1;31mfür Vor- und Frühgeschichte\u001b[0m\u001b[1;32mfor Pre-\u001b[0m and\u001b[1;31mparts\u001b[0m\u001b[1;32mProtohistory and sections\u001b[0m of the\u001b[1;31mAntikensammlung\u001b[0m\u001b[1;32mantique collection\u001b[0m.\n"
     ]
    }
   ],
   "source": [
    "print(\"Page Pairing: [En Wiki: %s; Revision ID: %s] [Simple Wiki: %s; Revision ID: %s]\" % (sample[\"r_page\"], sample[\"r_revid\"], sample[\"s_page\"], sample[\"s_revid\"]))\n",
    "\n",
    "# Raw text of En page: sample[\"r_content\"]\n",
    "# Raw text of Simple page: sample[\"s_content\"]\n",
    "\n",
    "edits = sample[\"edits\"] # Can be recreated through: `utils_diff.get_edit_operations(sample[\"r_content\"], sample[\"s_content\"], split_replace=True, split_sentences=True)`\n",
    "\n",
    "print(\"---- Here is the edit sequence to go from the original page to the simplified page ----\")\n",
    "print(\"Legend: Green text is added in the simple page, red text is deleted from the original page\")\n",
    "print(\"---\")\n",
    "print(utils_diff.make_colored_text(sample[\"r_content\"], sample[\"s_content\"]))"
   ]
  },
  {
   "cell_type": "code",
   "execution_count": 125,
   "metadata": {},
   "outputs": [
    {
     "data": {
      "text/plain": [
       "[{'gi': 0, 'opis': [1, 2], 'category': 'lexical_generic'},\n",
       " {'opis': [4], 'category': 'semantic_deletion'},\n",
       " {'gi': 2, 'opis': [8, 6, 7], 'category': 'syntactic_sentence_splitting'},\n",
       " {'gi': 3, 'opis': [10, 11], 'category': 'nonsim_format'},\n",
       " {'gi': 4, 'opis': [13], 'category': 'semantic_elaboration_generic'},\n",
       " {'gi': 6, 'opis': [15, 18], 'category': 'discourse_anaphora_insertion'},\n",
       " {'opis': [16, 17], 'category': 'semantic_deletion'},\n",
       " {'gi': 7, 'opis': [20, 21], 'category': 'lexical_generic'},\n",
       " {'gi': 8, 'opis': [23, 24], 'category': 'lexical_generic'},\n",
       " {'gi': 9, 'opis': [26], 'category': 'syntactic_generic'},\n",
       " {'gi': 10, 'opis': [28, 29, 31, 32], 'category': 'lexical_generic'},\n",
       " {'opis': [34, 35], 'category': 'lexical_generic'}]"
      ]
     },
     "execution_count": 125,
     "metadata": {},
     "output_type": "execute_result"
    }
   ],
   "source": [
    "# Annotation format specifies each edit group through the operation index (opi) of the category assigned to the group\n",
    "sample[\"annotations\"]"
   ]
  },
  {
   "cell_type": "code",
   "execution_count": 126,
   "metadata": {},
   "outputs": [
    {
     "name": "stdout",
     "output_type": "stream",
     "text": [
      "There are a total of 12 identified groups.\n",
      "[lexical_generic               ] The Neues Museum(English: New Museum) is\u001b[1;32mone of the buildings\u001b[0m\u001b[1;31ma listed building\u001b[0m on the Museum Island in [...]\n",
      "[semantic_deletion             ] [...] on the Museum Island in\u001b[1;31mthe historic centre of\u001b[0m Berlin [...]\n",
      "[syntactic_sentence_splitting  ] [...] Berlin\u001b[1;32m.\u001b[0m\u001b[1;32m It is\u001b[0m\u001b[1;31mand\u001b[0m part of [...]\n",
      "[nonsim_format                 ] [...] part of\u001b[1;32man\u001b[0m\u001b[1;31mthe\u001b[0m UNESCO World Heritage [...]\n",
      "[semantic_elaboration_generic  ] [...] UNESCO World Heritage\u001b[1;32mSite\u001b[0m. [...]\n",
      "[discourse_anaphora_insertion  ] [...] .\u001b[1;32mThe\u001b[0m\u001b[1;31mBuilt from 1843 to 1855 by order of King Frederick William IV of Prussia in Neoclassical and Renaissance Revival styles, it is considered as the major work of Friedrich August Stüler.\u001b[0m\u001b[1;31m After suffering damage in World War II and decay in East Germany, it was restored from 1999 to 2009 by David Chipperfield.\u001b[0m\u001b[1;31m Currently, the Neues\u001b[0m Museum [...]\n",
      "[semantic_deletion             ] [...] \u001b[1;31mBuilt from 1843 to 1855 by order of King Frederick William IV of Prussia in Neoclassical and Renaissance Revival styles, it is considered as the major work of Friedrich August Stüler.\u001b[0m\u001b[1;31m After suffering damage in World War II and decay in East Germany, it was restored from 1999 to 2009 by David Chipperfield.\u001b[0m [...]\n",
      "[lexical_generic               ] [...] Museum\u001b[1;32mincludes an Egyptian\u001b[0m\u001b[1;31mis home to the Ägyptisches\u001b[0m Museum, [...]\n",
      "[lexical_generic               ] [...] Museum,\u001b[1;32mPapyrus Collection\u001b[0m\u001b[1;31mthe Papyrussammlung\u001b[0m, [...]\n",
      "[syntactic_generic             ] [...] ,\u001b[1;31mthe\u001b[0m Museum [...]\n",
      "[lexical_generic               ] [...] Museum\u001b[1;32mfor Pre-\u001b[0m\u001b[1;31mfür Vor- und Frühgeschichte\u001b[0m and\u001b[1;32mProtohistory and sections\u001b[0m\u001b[1;31mparts\u001b[0m of the [...]\n",
      "[lexical_generic               ] [...] of the\u001b[1;32mantique collection\u001b[0m\u001b[1;31mAntikensammlung\u001b[0m.\n"
     ]
    }
   ],
   "source": [
    "# To visualize what each group correspond to, use the utils_vis module\n",
    "from utils_vis import visualize_edit_groups\n",
    "\n",
    "visualize_edit_groups(sample[\"r_content\"], sample[\"s_content\"], sample[\"annotations\"])"
   ]
  }
 ],
 "metadata": {
  "kernelspec": {
   "display_name": "base",
   "language": "python",
   "name": "python3"
  },
  "language_info": {
   "codemirror_mode": {
    "name": "ipython",
    "version": 3
   },
   "file_extension": ".py",
   "mimetype": "text/x-python",
   "name": "python",
   "nbconvert_exporter": "python",
   "pygments_lexer": "ipython3",
   "version": "3.9.7"
  },
  "orig_nbformat": 4
 },
 "nbformat": 4,
 "nbformat_minor": 2
}
